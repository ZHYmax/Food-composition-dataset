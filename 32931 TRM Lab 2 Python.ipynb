{
 "cells": [
  {
   "cell_type": "markdown",
   "metadata": {},
   "source": [
    "# 32931 Technology Research Methods (SPRING 2019)\n",
    "Quantitative Lab 2\n",
    "(using PYTHON)\n",
    "\n",
    "Compiled by Mahrita Harahap"
   ]
  },
  {
   "cell_type": "markdown",
   "metadata": {},
   "source": [
    "# One Sample T-Test and Non-Parametric Equivalent"
   ]
  },
  {
   "cell_type": "markdown",
   "metadata": {},
   "source": [
    "These questions have been taken from P. Petocz, Statistical laboratory exercises using Minitab: a guide to understanding data, Jacaranda Wiley, 1998. \n",
    "\n",
    "The Earth's atmosphere\n",
    "\n",
    "The composition of the Earth's atmosphere has seen some major changes in the past. One source of information about these changes is bubbles of gas inside ancient amber, a tree resin that has hardened and been trapped in rocks. Measurements on specimens from the late Cretaceous era (75 to 95 million years ago) gave these percentages of nitrogen:\n",
    "\n",
    "63.4\t65.0\t64.4\t63.3\t54.8\t64.5\t60.8\t49.1\t51.0\n",
    "\n",
    "(Data from Berner, R. A. and Landis, G. P. 1988, 'Gas bubbles in fossil amber as possible indicators of the major gas composition of ancient air', Science, vol. 239, pp. 1406-9.)\n",
    "\n",
    "Use Python to obtain the histogram, boxplot and a normal probability plot for Nitrogen. Comment on the normality, skewness and outliers in the data."
   ]
  },
  {
   "cell_type": "code",
   "execution_count": 1,
   "metadata": {},
   "outputs": [
    {
     "name": "stderr",
     "output_type": "stream",
     "text": [
      "C:\\Users\\mahrita\\Anaconda3\\lib\\site-packages\\statsmodels\\compat\\pandas.py:56: FutureWarning: The pandas.core.datetools module is deprecated and will be removed in a future version. Please use the pandas.tseries module instead.\n",
      "  from pandas.core import datetools\n"
     ]
    },
    {
     "data": {
      "image/png": "[encoded data removed]",
      "text/plain": [
       "<matplotlib.figure.Figure at 0x281baf9cc50>"
      ]
     },
     "metadata": {},
     "output_type": "display_data"
    },
    {
     "data": {
      "image/png": "[encoded data removed]",
      "text/plain": [
       "<matplotlib.figure.Figure at 0x281b98887f0>"
      ]
     },
     "metadata": {},
     "output_type": "display_data"
    },
    {
     "data": {
      "image/png": "[encoded data removed]",
      "text/plain": [
       "<matplotlib.figure.Figure at 0x281c047a128>"
      ]
     },
     "metadata": {},
     "output_type": "display_data"
    }
   ],
   "source": [
    "import matplotlib.pyplot as plt\n",
    "import pylab\n",
    "import numpy as np\n",
    "import matplotlib.mlab as mlab\n",
    "import matplotlib.pyplot as plt\n",
    "import pandas\n",
    "from scipy import stats\n",
    "import statsmodels.api as sm\n",
    "import statsmodels.stats.api as sms\n",
    "\n",
    "x=np.array([63.4,65,64.4,63.3,54.8,64.5,60.8,49.1,51])\n",
    "\n",
    "plt.hist(x, bins=4) \n",
    "plt.show()\n",
    "\n",
    "plt.boxplot(x)\n",
    "plt.show()\n",
    "\n",
    "stats.probplot(x, dist=\"norm\", plot=pylab)\n",
    "pylab.show()"
   ]
  },
  {
   "cell_type": "markdown",
   "metadata": {},
   "source": [
    "It is difficult to be too confident of the distribution with so few samples, but the distribution appears to be left skewed.\n",
    "\n",
    "We can formally conclude that the data are normally distributed by doing a 1 sample KS.\n"
   ]
  },
  {
   "cell_type": "code",
   "execution_count": 2,
   "metadata": {},
   "outputs": [
    {
     "name": "stdout",
     "output_type": "stream",
     "text": [
      "lilliefors:  D , P_Value (0.27905730886053159, 0.041827052998375865)\n"
     ]
    }
   ],
   "source": [
    "print('lilliefors:  D , P_Value',sm.stats.diagnostic.lilliefors(x, pvalmethod='approx'))"
   ]
  },
  {
   "cell_type": "markdown",
   "metadata": {},
   "source": [
    "H0: data are normally distributed <br>\n",
    "H1: data are not normally distributed <br>\n",
    "K-S=0.279 <br>\n",
    "Since p = 0.042< 0.05, we reject the null hypothesis. <br>\n",
    "We conclude that the Nitrogen levels are not normally distributed at the 5% level of significance. <br>"
   ]
  },
  {
   "cell_type": "markdown",
   "metadata": {},
   "source": [
    "Suppose the normality assumption in the data had not been violated. The present value for nitrogen in the air is 78.1%. Is this significantly different from the late Cretaceous air? Write down null and alternative hypotheses. Then carry out the test and answer the question using t-test choosing the appropriate alternative."
   ]
  },
  {
   "cell_type": "code",
   "execution_count": 5,
   "metadata": {},
   "outputs": [
    {
     "name": "stdout",
     "output_type": "stream",
     "text": [
      "t_statistic, p_value -8.87782389745 2.04877795654e-05\n"
     ]
    }
   ],
   "source": [
    "t_statistic, p_value =stats.ttest_1samp(x, 78.1)\n",
    "print(\"t_statistic, p_value\",t_statistic, p_value)"
   ]
  },
  {
   "cell_type": "markdown",
   "metadata": {},
   "source": [
    "H0: µ = 78.1 <br>\n",
    "H1: µ ≠ 78.1<br>\n",
    "t-test=-8.878<br>\n",
    "Since p =2.049e-05≈0.000 < 0.05, we reject the null hypothesis.<br>\n",
    "We conclude that the mean nitrogen level from the late Cretaceous period is significantly different to that of present day air.<br>\n"
   ]
  },
  {
   "cell_type": "markdown",
   "metadata": {},
   "source": [
    "Since the normality assumption in the data had been violated and the use of the one sample t-test is deemed inappropriate. We have to use a Nonparametric test, specifically a 1-sample Wilcoxon test. The present value for nitrogen in the air is 78.1%. Is this significantly different from the late Cretaceous air? Write down null and alternative hypotheses. Then carry out the test and answer the question using the Wilcoxon Test.\n"
   ]
  },
  {
   "cell_type": "code",
   "execution_count": 9,
   "metadata": {},
   "outputs": [
    {
     "name": "stdout",
     "output_type": "stream",
     "text": [
      "z_statistic, p_value 0.0 0.00768579405521\n"
     ]
    },
    {
     "name": "stderr",
     "output_type": "stream",
     "text": [
      "C:\\Users\\mahrita\\Anaconda3\\lib\\site-packages\\scipy\\stats\\morestats.py:2397: UserWarning: Warning: sample size too small for normal approximation.\n",
      "  warnings.warn(\"Warning: sample size too small for normal approximation.\")\n"
     ]
    }
   ],
   "source": [
    "z_statistic, p_value = stats.wilcoxon(x-78.1)\n",
    "print(\"z_statistic, p_value\",z_statistic, p_value)"
   ]
  },
  {
   "cell_type": "markdown",
   "metadata": {},
   "source": [
    "H0: median= 78.1 <br>\n",
    "H1: median ≠ 78.1<br>\n",
    "Since p = 0.007< 0.05, we reject the null hypothesis. We conclude that the mean nitrogen level from the late Cretaceous period is significantly different to that of present day air.\n"
   ]
  },
  {
   "cell_type": "markdown",
   "metadata": {},
   "source": [
    "Another source of information about changes to the Earth's atmosphere is obtained by analysing bubbles from samples of ice from beneath the Arctic and Antarctic icecaps. Data for this section have been extracted from two graphs, one in Graedel, T. E. and Crutzen, P.J. 1989, 'The changing atmosphere', Scientific American, Sept., pp. 28-36; the other in Houghton, R. A. and Woodwell, G. M. 1989, 'Global climatic change', Scientific American, April, pp. 18-26.\n",
    "\n",
    "Get the measurements from the data disk from the worksheet “methane.sav”. Methane values are given in parts per billion (ppb) for several time periods. Here, we will concentrate on the values in the variable M1-3th (methane levels 1000 to 3000 years ago). Use an appropriate graph to comment on the shape of the data. Test whether the data is normally distributed.\n"
   ]
  },
  {
   "cell_type": "code",
   "execution_count": 10,
   "metadata": {},
   "outputs": [
    {
     "data": {
      "image/png": "[encoded data removed]",
      "text/plain": [
       "<matplotlib.figure.Figure at 0x18ba372b2b0>"
      ]
     },
     "metadata": {},
     "output_type": "display_data"
    },
    {
     "data": {
      "image/png": "[encoded data removed]",
      "text/plain": [
       "<matplotlib.figure.Figure at 0x18ba3598c88>"
      ]
     },
     "metadata": {},
     "output_type": "display_data"
    },
    {
     "data": {
      "image/png": "[encoded data removed]",
      "text/plain": [
       "<matplotlib.figure.Figure at 0x18ba3681438>"
      ]
     },
     "metadata": {},
     "output_type": "display_data"
    },
    {
     "name": "stdout",
     "output_type": "stream",
     "text": [
      "lilliefors:  D , P_Value (0.1247788242102561, 0.31202189797716279)\n"
     ]
    }
   ],
   "source": [
    "x=np.array([710,600,520,540,590,670,660,630,820,660,630,630,670,700,640,600,630,670,700,800,630,620,670,700,750,710,660,700])\n",
    "\n",
    "plt.boxplot(x)\n",
    "plt.show()\n",
    "\n",
    "plt.hist(x, bins=6) \n",
    "plt.show()\n",
    "\n",
    "stats.probplot(x, dist=\"norm\", plot=pylab)\n",
    "pylab.show()\n",
    "\n",
    "print('lilliefors:  D , P_Value',sm.stats.diagnostic.lilliefors(x, pvalmethod='approx'))\n"
   ]
  },
  {
   "cell_type": "markdown",
   "metadata": {},
   "source": [
    "By constructing a histogram we see that visually the data appears normally distributed.\n",
    "We then formally conclude that the data are normally distributed by doing a 1 sample KS.\n",
    "\n",
    "H0: data are normally distributed <br>\n",
    "H1: data are not normally distributed <br>\n",
    "K.S=0.125 <br>\n",
    "Since p = 0.3199 > 0.05, we do not reject the null hypothesis.\n",
    "We conclude that the methane levels 1000-3000 years ago are normally distributed.\n"
   ]
  },
  {
   "cell_type": "markdown",
   "metadata": {},
   "source": [
    "Find a 95% confidence interval for mean methane levels 1000 to 3000 years ago. Use t.test , and enter a test value of 0. Explain exactly what this interval represents. Would a 99% confidence interval be wider or narrower than the 95% interval? "
   ]
  },
  {
   "cell_type": "code",
   "execution_count": 13,
   "metadata": {},
   "outputs": [
    {
     "name": "stdout",
     "output_type": "stream",
     "text": [
      "t_statistic 52.988345927\n",
      "conf interval 95 percent  (635.66006362991345, 686.48279351294366)\n",
      "conf interval 99 percent  (627.67523406181863, 694.46762308103848)\n"
     ]
    }
   ],
   "source": [
    "t_statistic, p_value =stats.ttest_1samp(x, 0)\n",
    "print(\"t_statistic\",t_statistic)\n",
    "\n",
    "conf_int_x = stats.norm.interval(0.95, loc=x.mean(), scale= np.std(x)/round(np.sqrt(len(x))))\n",
    "print(\"conf interval 95 percent \",conf_int_x)\n",
    "\n",
    "\n",
    "conf_int_x = stats.norm.interval(0.99, loc=x.mean(), scale= np.std(x)/round(np.sqrt(len(x))))\n",
    "print(\"conf interval 99 percent \",conf_int_x)\n"
   ]
  },
  {
   "cell_type": "markdown",
   "metadata": {},
   "source": [
    "95% CI = (635.47, 686.67). We are 95% confident that the mean methane levels 1000 to 3000 years ago were between 635.47 and 686.67 ppb.\n",
    "\n",
    "We would expect the 99% confidence interval to be wider than the 95% confidence interval since we are more confident that the population mean is in the range.\n",
    "\n",
    "99% CI = (626.50, 695.64)\n"
   ]
  },
  {
   "cell_type": "markdown",
   "metadata": {},
   "source": [
    "The present methane level is about 1500 ppb, obviously a much higher value than in the past. But it is generally held that 10 000 years ago methane levels were about 700 ppb. Do these data indicate that levels of methane dropped before they rose to present levels? Write down null and alternative hypotheses, then carry out the test and answer the question.  Use t-test choosing the appropriate Test value=700 and Confidence Interval Percentage=95%."
   ]
  },
  {
   "cell_type": "code",
   "execution_count": 14,
   "metadata": {},
   "outputs": [
    {
     "name": "stdout",
     "output_type": "stream",
     "text": [
      "t_statistic, p_value -3.12032939278 0.00213460384641\n"
     ]
    }
   ],
   "source": [
    "t_statistic, p_value =stats.ttest_1samp(x,700)\n",
    "print(\"t_statistic, p_value\",t_statistic, p_value/2)"
   ]
  },
  {
   "cell_type": "markdown",
   "metadata": {},
   "source": [
    "H0: µ = 700 <br>\n",
    "H1: µ < 700<br>\n",
    "t-test=-3.12<br>\n",
    "Since this is a one tailed test, we should divide the P-value by 2. <br>\n",
    "Since P-value = 0.004/2=0.002 < 0.05, we reject the null hypothesis.\n",
    "\n",
    "We conclude that the levels of methane did drop before they rose to the present level.\n"
   ]
  },
  {
   "cell_type": "markdown",
   "metadata": {},
   "source": [
    "# One sample Proportion Test"
   ]
  },
  {
   "cell_type": "markdown",
   "metadata": {},
   "source": [
    "Going back to the “Attitudes towards the Library” survey that we used last week (Attitudes.csv), the library manager assumes that greater than 50% of their users use the study rooms and therefore they should not scrap the feature and replace it with a multimedia room to cater for their users. To test whether the library manager is right, conduct a one sample proportion test by prop.test and select the appropriate hypothesis and alternative."
   ]
  },
  {
   "cell_type": "code",
   "execution_count": 16,
   "metadata": {
    "collapsed": true,
    "scrolled": true
   },
   "outputs": [],
   "source": [
    "import pandas as pd\n",
    "Attitudes = pd.read_csv('C:/Users/mahrita/Google Drive/32931 TRM/32931 Spring 2017/Week 2/Attitudes.csv')"
   ]
  },
  {
   "cell_type": "code",
   "execution_count": 17,
   "metadata": {},
   "outputs": [
    {
     "data": {
      "text/html": [
       "<div>\n",
       "<style>\n",
       "    .dataframe thead tr:only-child th {\n",
       "        text-align: right;\n",
       "    }\n",
       "\n",
       "    .dataframe thead th {\n",
       "        text-align: left;\n",
       "    }\n",
       "\n",
       "    .dataframe tbody tr th {\n",
       "        vertical-align: top;\n",
       "    }\n",
       "</style>\n",
       "<table border=\"1\" class=\"dataframe\">\n",
       "  <thead>\n",
       "    <tr style=\"text-align: right;\">\n",
       "      <th></th>\n",
       "      <th>Sex</th>\n",
       "      <th>Service</th>\n",
       "      <th>Visits</th>\n",
       "      <th>ClosedReserve</th>\n",
       "      <th>StudyAreas</th>\n",
       "      <th>SearchFacilities</th>\n",
       "      <th>JournalCollections</th>\n",
       "      <th>Photocopiers</th>\n",
       "    </tr>\n",
       "  </thead>\n",
       "  <tbody>\n",
       "    <tr>\n",
       "      <th>0</th>\n",
       "      <td>M</td>\n",
       "      <td>Agree</td>\n",
       "      <td>2</td>\n",
       "      <td>1</td>\n",
       "      <td>0</td>\n",
       "      <td>0</td>\n",
       "      <td>0</td>\n",
       "      <td>0</td>\n",
       "    </tr>\n",
       "    <tr>\n",
       "      <th>1</th>\n",
       "      <td>F</td>\n",
       "      <td>Strongly Agree</td>\n",
       "      <td>5</td>\n",
       "      <td>0</td>\n",
       "      <td>1</td>\n",
       "      <td>1</td>\n",
       "      <td>1</td>\n",
       "      <td>1</td>\n",
       "    </tr>\n",
       "    <tr>\n",
       "      <th>2</th>\n",
       "      <td>F</td>\n",
       "      <td>Agree</td>\n",
       "      <td>0</td>\n",
       "      <td>0</td>\n",
       "      <td>0</td>\n",
       "      <td>0</td>\n",
       "      <td>0</td>\n",
       "      <td>0</td>\n",
       "    </tr>\n",
       "    <tr>\n",
       "      <th>3</th>\n",
       "      <td>M</td>\n",
       "      <td>Neutral</td>\n",
       "      <td>1</td>\n",
       "      <td>1</td>\n",
       "      <td>1</td>\n",
       "      <td>1</td>\n",
       "      <td>0</td>\n",
       "      <td>1</td>\n",
       "    </tr>\n",
       "    <tr>\n",
       "      <th>4</th>\n",
       "      <td>F</td>\n",
       "      <td>Agree</td>\n",
       "      <td>3</td>\n",
       "      <td>0</td>\n",
       "      <td>1</td>\n",
       "      <td>1</td>\n",
       "      <td>0</td>\n",
       "      <td>1</td>\n",
       "    </tr>\n",
       "    <tr>\n",
       "      <th>5</th>\n",
       "      <td>F</td>\n",
       "      <td>Neutral</td>\n",
       "      <td>2</td>\n",
       "      <td>0</td>\n",
       "      <td>1</td>\n",
       "      <td>1</td>\n",
       "      <td>0</td>\n",
       "      <td>1</td>\n",
       "    </tr>\n",
       "    <tr>\n",
       "      <th>6</th>\n",
       "      <td>M</td>\n",
       "      <td>Disagree</td>\n",
       "      <td>1</td>\n",
       "      <td>0</td>\n",
       "      <td>0</td>\n",
       "      <td>0</td>\n",
       "      <td>1</td>\n",
       "      <td>1</td>\n",
       "    </tr>\n",
       "    <tr>\n",
       "      <th>7</th>\n",
       "      <td>M</td>\n",
       "      <td>Neutral</td>\n",
       "      <td>3</td>\n",
       "      <td>1</td>\n",
       "      <td>1</td>\n",
       "      <td>1</td>\n",
       "      <td>0</td>\n",
       "      <td>1</td>\n",
       "    </tr>\n",
       "    <tr>\n",
       "      <th>8</th>\n",
       "      <td>F</td>\n",
       "      <td>Neutral</td>\n",
       "      <td>4</td>\n",
       "      <td>1</td>\n",
       "      <td>1</td>\n",
       "      <td>1</td>\n",
       "      <td>0</td>\n",
       "      <td>1</td>\n",
       "    </tr>\n",
       "    <tr>\n",
       "      <th>9</th>\n",
       "      <td>F</td>\n",
       "      <td>Agree</td>\n",
       "      <td>2</td>\n",
       "      <td>0</td>\n",
       "      <td>1</td>\n",
       "      <td>0</td>\n",
       "      <td>1</td>\n",
       "      <td>1</td>\n",
       "    </tr>\n",
       "    <tr>\n",
       "      <th>10</th>\n",
       "      <td>M</td>\n",
       "      <td>Neutral</td>\n",
       "      <td>2</td>\n",
       "      <td>1</td>\n",
       "      <td>0</td>\n",
       "      <td>1</td>\n",
       "      <td>0</td>\n",
       "      <td>1</td>\n",
       "    </tr>\n",
       "    <tr>\n",
       "      <th>11</th>\n",
       "      <td>M</td>\n",
       "      <td>Disagree</td>\n",
       "      <td>1</td>\n",
       "      <td>1</td>\n",
       "      <td>0</td>\n",
       "      <td>0</td>\n",
       "      <td>1</td>\n",
       "      <td>1</td>\n",
       "    </tr>\n",
       "  </tbody>\n",
       "</table>\n",
       "</div>"
      ],
      "text/plain": [
       "   Sex         Service  Visits  ClosedReserve  StudyAreas  SearchFacilities  \\\n",
       "0    M           Agree       2              1           0                 0   \n",
       "1    F  Strongly Agree       5              0           1                 1   \n",
       "2    F           Agree       0              0           0                 0   \n",
       "3    M         Neutral       1              1           1                 1   \n",
       "4    F           Agree       3              0           1                 1   \n",
       "5    F         Neutral       2              0           1                 1   \n",
       "6    M        Disagree       1              0           0                 0   \n",
       "7    M         Neutral       3              1           1                 1   \n",
       "8    F         Neutral       4              1           1                 1   \n",
       "9    F           Agree       2              0           1                 0   \n",
       "10   M         Neutral       2              1           0                 1   \n",
       "11   M        Disagree       1              1           0                 0   \n",
       "\n",
       "    JournalCollections  Photocopiers  \n",
       "0                    0             0  \n",
       "1                    1             1  \n",
       "2                    0             0  \n",
       "3                    0             1  \n",
       "4                    0             1  \n",
       "5                    0             1  \n",
       "6                    1             1  \n",
       "7                    0             1  \n",
       "8                    0             1  \n",
       "9                    1             1  \n",
       "10                   0             1  \n",
       "11                   1             1  "
      ]
     },
     "execution_count": 17,
     "metadata": {},
     "output_type": "execute_result"
    }
   ],
   "source": [
    "Attitudes"
   ]
  },
  {
   "cell_type": "code",
   "execution_count": 53,
   "metadata": {},
   "outputs": [
    {
     "name": "stdout",
     "output_type": "stream",
     "text": [
      "0.585540043769 0.279092324711\n"
     ]
    }
   ],
   "source": [
    "import statsmodels.api as sm\n",
    "count = Attitudes.groupby('StudyAreas')['StudyAreas'].count()[1]\n",
    "nobs = Attitudes.groupby('StudyAreas')['StudyAreas'].count().sum()\n",
    "value = .5\n",
    "z_score, p_value = sm.stats.proportions_ztest(count, nobs, value,alternative='larger')\n",
    "print(z_score, p_value )"
   ]
  },
  {
   "cell_type": "markdown",
   "metadata": {},
   "source": [
    "H0: p = 0.5 <br>\n",
    "H1: p > 0.5<br>\n",
    "\n",
    "Since P-value = 0.28 > 0.05, we do not reject the null hypothesis.<br>\n",
    "\n",
    "We do not have enough statistical evidence, to prove that the proportion of users who do use the study rooms is greater than 50%. Therefore the library shall scrap this feature and replace it with a multimedia room.\n"
   ]
  }
 ],
 "metadata": {
  "anaconda-cloud": {},
  "kernelspec": {
   "display_name": "Python 3",
   "language": "python",
   "name": "python3"
  },
  "language_info": {
   "codemirror_mode": {
    "name": "ipython",
    "version": 3
   },
   "file_extension": ".py",
   "mimetype": "text/x-python",
   "name": "python",
   "nbconvert_exporter": "python",
   "pygments_lexer": "ipython3",
   "version": "3.7.1"
  }
 },
 "nbformat": 4,
 "nbformat_minor": 1
}
