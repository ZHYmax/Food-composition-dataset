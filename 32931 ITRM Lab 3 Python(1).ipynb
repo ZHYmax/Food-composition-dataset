{
 "cells": [
  {
   "cell_type": "markdown",
   "metadata": {},
   "source": [
    "# 32931 Technology Research Methods (SPRING 2019)\n",
    "Quantitative Lab 3\n",
    "(using PYTHON)\n",
    "\n",
    "Compiled by Mahrita Harahap"
   ]
  },
  {
   "cell_type": "markdown",
   "metadata": {},
   "source": [
    "# ANOVA Test"
   ]
  },
  {
   "cell_type": "markdown",
   "metadata": {},
   "source": [
    "These questions have been taken from P. Petocz, Statistical laboratory exercises using Minitab: a guide to understanding data, Jacaranda Wiley, 1998.\n",
    "\n",
    "Flicker Rates\n",
    "\n",
    "An individual's critical flicker frequency is the highest frequency at which the flicker in a flickering light source can be detected. At frequencies above the critical frequency, the light source appears to be continuous even though it is actually flickering. This investigation recorded critical flicker frequency and iris colour of the eye for 19 subjects. These results were published in “The effect of iris color on critical flicker frequency”. Journal of General Psychology (1973), 91-95.\n",
    "\n",
    "Read in the data set Flicker.csv. Obtain a multiple boxplot and numerical summaries of the critical frequency for each of the three iris colours using boxplot and by functions. Summarise your observations.\n"
   ]
  },
  {
   "cell_type": "code",
   "execution_count": 1,
   "metadata": {
    "scrolled": true
   },
   "outputs": [
    {
     "data": {
      "text/plain": [
       "                Colour\n",
       "Flicker  count  1          8.000000\n",
       "                2          5.000000\n",
       "                3          6.000000\n",
       "         mean   1         25.587500\n",
       "                2         26.920000\n",
       "                3         28.166667\n",
       "         std    1          1.365323\n",
       "                2          1.843095\n",
       "                3          1.527962\n",
       "         min    1         23.700000\n",
       "                2         24.200000\n",
       "                3         25.700000\n",
       "         25%    1         24.725000\n",
       "                2         26.400000\n",
       "                3         27.475000\n",
       "         50%    1         25.350000\n",
       "                2         26.900000\n",
       "                3         28.400000\n",
       "         75%    1         26.425000\n",
       "                2         28.000000\n",
       "                3         29.175000\n",
       "         max    1         27.900000\n",
       "                2         29.100000\n",
       "                3         29.900000\n",
       "dtype: float64"
      ]
     },
     "execution_count": 1,
     "metadata": {},
     "output_type": "execute_result"
    }
   ],
   "source": [
    "import pandas as pd\n",
    "\n",
    "flicker = pd.read_csv('C:/Users/mahrita/Google Drive/32931 TRM/32931 Spring 2018/Week 3/Flicker.csv')\n",
    "flicker\n",
    "flicker.groupby(['Colour']).describe().unstack()\n",
    "#Summary statistics"
   ]
  },
  {
   "cell_type": "code",
   "execution_count": 2,
   "metadata": {},
   "outputs": [
    {
     "data": {
      "image/png": "[encoded data removed]",
      "text/plain": [
       "<matplotlib.figure.Figure at 0x1ee10bbc5f8>"
      ]
     },
     "metadata": {},
     "output_type": "display_data"
    }
   ],
   "source": [
    "import matplotlib.pyplot as plt\n",
    "\n",
    "# Multiple Boxplots\n",
    "flicker.boxplot(by='Colour', meanline=True, showmeans=True, showcaps=True,showbox=True, showfliers=False)\n",
    "plt.show()"
   ]
  },
  {
   "cell_type": "markdown",
   "metadata": {},
   "source": [
    "It appears that people with blue eyes have the highest critical frequency (mean = 28.2), followed by those with green eyes (mean = 26.9), and then brown eyes (mean = 25.6). It also appears that the three groups have similar variation in the critical frequencies observed. "
   ]
  },
  {
   "cell_type": "markdown",
   "metadata": {},
   "source": [
    "Since there are more than 2 groups, if we wanted to compare the means between the groups we should undertake a one-way ANOVA test. Remember that the ANOVA test has three assumptions.\n",
    "1. normality of group observations (K-S test on each group)\n",
    "2. normality of residuals (K-S test on the residuals)\n",
    "3. and equality of variances (Levene’s test)\n",
    "\n",
    "Test whether each group has normally distributed observations formally by using the Kolmogorov Smirnov test. Include the null and alternative hypothesis, p-value, decision and conclusion in your answer. Is analysis of variance appropriate in this case?\n"
   ]
  },
  {
   "cell_type": "code",
   "execution_count": 12,
   "metadata": {},
   "outputs": [
    {
     "name": "stdout",
     "output_type": "stream",
     "text": [
      "lilliefors Bl:  D , P_Value (0.16651167904224429, 0.20000000000000001)\n",
      "lilliefors Gr:  D , P_Value (0.18892034589128653, 0.20000000000000001)\n",
      "lilliefors Br:  D , P_Value (0.20143512793292812, 0.20000000000000001)\n"
     ]
    }
   ],
   "source": [
    "import statsmodels.api as sm\n",
    "\n",
    "# normality of group observations (K-S test on each group)\n",
    "print('lilliefors Bl:  D , P_Value',sm.stats.diagnostic.lilliefors(flicker['Flicker'][flicker.Colour==1], pvalmethod='table'))\n",
    "print('lilliefors Gr:  D , P_Value',sm.stats.diagnostic.lilliefors(flicker['Flicker'][flicker.Colour==2], pvalmethod='table'))\n",
    "print('lilliefors Br:  D , P_Value',sm.stats.diagnostic.lilliefors(flicker['Flicker'][flicker.Colour==3], pvalmethod='table'))\n",
    "\n"
   ]
  },
  {
   "cell_type": "markdown",
   "metadata": {},
   "source": [
    "For each group,\n",
    "\n",
    "H0: The data is normally distributed<br>\n",
    "H1: The data is not normally distributed<br>\n",
    "\n",
    "p-value > α(0.05) we do not reject H0. We conclude that the critical frequencies for each colour group do not deviate significantly from normally distributed data.<br>\n",
    "\n",
    "We have met one of the assumptions for ANOVA.\n"
   ]
  },
  {
   "cell_type": "markdown",
   "metadata": {},
   "source": [
    "Test whether the residuals are normally distributed. Include the null and alternative hypothesis, p-value, decision and conclusion in your answer. Is analysis of variance appropriate in this case?"
   ]
  },
  {
   "cell_type": "code",
   "execution_count": 14,
   "metadata": {},
   "outputs": [
    {
     "name": "stdout",
     "output_type": "stream",
     "text": [
      "lilliefors:  D , P_Value (0.092694844343256921, 0.20000000000000001)\n"
     ]
    }
   ],
   "source": [
    "import patsy as ps\n",
    "from statsmodels.formula.api import ols\n",
    "\n",
    "y, X = ps.dmatrices('Flicker ~ Colour',data = flicker, return_type = 'dataframe')\n",
    "model = sm.OLS(y, X)\n",
    "results = model.fit()\n",
    "print('lilliefors:  D , P_Value',sm.stats.diagnostic.lilliefors(results.resid, pvalmethod='table'))"
   ]
  },
  {
   "cell_type": "code",
   "execution_count": 18,
   "metadata": {},
   "outputs": [
    {
     "data": {
      "image/png": "[encoded data removed]",
      "text/plain": [
       "<matplotlib.figure.Figure at 0x25e4c4ff4a8>"
      ]
     },
     "metadata": {},
     "output_type": "display_data"
    }
   ],
   "source": [
    "import pylab\n",
    "from scipy import stats\n",
    "stats.probplot(flicker['Flicker'], dist=\"norm\", plot=pylab)\n",
    "pylab.show()"
   ]
  },
  {
   "cell_type": "markdown",
   "metadata": {},
   "source": [
    "H0: The residuals are normally distributed <br>\n",
    "H1: The residuals are not normally distributed<br>\n",
    "D=0.0927<br>\n",
    "p-value = 0.2> α(0.05) we do not reject H0. We conclude that the residuals do not deviate significantly from normally distributed data.   \n",
    "\n",
    "We have met another assumption for ANOVA.\n"
   ]
  },
  {
   "cell_type": "markdown",
   "metadata": {},
   "source": [
    "Test the homogeneity of variances using the levene test. Is analysis of variance appropriate in this case?"
   ]
  },
  {
   "cell_type": "code",
   "execution_count": 27,
   "metadata": {},
   "outputs": [
    {
     "data": {
      "text/plain": [
       "(0.094211701909605941, 0.91059114657637386)"
      ]
     },
     "execution_count": 27,
     "metadata": {},
     "output_type": "execute_result"
    }
   ],
   "source": [
    "# equality of variances (Levene’s test)\n",
    "W2, pval2 = stats.levene(flicker['Flicker'][flicker.Colour==1],flicker['Flicker'][flicker.Colour==2],flicker['Flicker'][flicker.Colour==3], center='mean')\n",
    "W2, pval2"
   ]
  },
  {
   "cell_type": "markdown",
   "metadata": {},
   "source": [
    "H0: The variances of the three groups are equal.<br>\n",
    "H1: The variances of the three groups are not all equal.<br>\n",
    "\n",
    "Since p-value = 0.9106> α(0.05) we do not reject H0, we can conclude that the variances of the critical frequencies are not significantly different between the iris colours. <br>\n",
    "\n",
    "We have met the final assumption for ANOVA. It is appropriate to carry out an ANOVA because all three assumptions (normality of group observations, normality of residuals, and equality of variances) have been met.\n"
   ]
  },
  {
   "cell_type": "markdown",
   "metadata": {},
   "source": [
    "Write down the null and alterative hypotheses and carry out a test for the equality of the group means (ANOVA test). What is the result of the test?"
   ]
  },
  {
   "cell_type": "code",
   "execution_count": 34,
   "metadata": {},
   "outputs": [
    {
     "name": "stdout",
     "output_type": "stream",
     "text": [
      "             sum_sq    df          F    PR(>F)\n",
      "Colour    22.990536   1.0  10.200194  0.005318\n",
      "Residual  38.316832  17.0        NaN       NaN\n"
     ]
    }
   ],
   "source": [
    "import patsy as ps\n",
    "from statsmodels.formula.api import ols\n",
    "\n",
    "model = ols('Flicker ~ Colour',flicker)\n",
    "table = sm.stats.anova_lm(model.fit(), typ=2) \n",
    "print(table)"
   ]
  },
  {
   "cell_type": "markdown",
   "metadata": {},
   "source": [
    "H0: μBlack = μGreen = μBrown<br>\n",
    "H1: Not all μi are equal.<br>\n",
    "p-value = 0.005 < α(0.05) therefore we reject H0. We conclude that there is a significant difference in the mean critical frequencies amongst the three different iris colours. \n",
    "\n"
   ]
  },
  {
   "cell_type": "markdown",
   "metadata": {},
   "source": [
    "# Multiple Comparisons Test"
   ]
  },
  {
   "cell_type": "markdown",
   "metadata": {},
   "source": [
    "Recall that if we reject the null hypothesis in an analysis of variance, we can use a multiple comparisons test to determine where the differences lie. Use multicomp.pairwise_tukeyhsd function in Python to see between which groups are there significant differences? "
   ]
  },
  {
   "cell_type": "code",
   "execution_count": 36,
   "metadata": {},
   "outputs": [
    {
     "name": "stdout",
     "output_type": "stream",
     "text": [
      "Multiple Comparison of Means - Tukey HSD,FWER=0.05\n",
      "============================================\n",
      "group1 group2 meandiff  lower  upper  reject\n",
      "--------------------------------------------\n",
      "  1      2     1.3325  -0.9429 3.6079 False \n",
      "  1      3     2.5792   0.4236 4.7347  True \n",
      "  2      3     1.2467  -1.1702 3.6636 False \n",
      "--------------------------------------------\n"
     ]
    }
   ],
   "source": [
    "res2 = sm.stats.multicomp.pairwise_tukeyhsd (flicker['Flicker'], flicker['Colour'])\n",
    "print (res2)"
   ]
  },
  {
   "cell_type": "markdown",
   "metadata": {},
   "source": [
    "Since 0 does not lie in the 95% confidence interval (or p-value=0.018 < 0.05), we conclude that there is a significant difference between the blue and brown eyes, but none of the other pairs of iris colours have significantly different mean critical frequencies."
   ]
  },
  {
   "cell_type": "markdown",
   "metadata": {},
   "source": [
    "# Nonparametric Equivalent: Kruskal-Wallis Test"
   ]
  },
  {
   "cell_type": "markdown",
   "metadata": {},
   "source": [
    "Say if one of the three assumptions (normality of group observations, normality of residuals, and equality of variances) have not been met. Then the ANOVA test would not be appropriate. Then we should undertake the alternative equivalent nonparametric test, the Kruskal Wallis test."
   ]
  },
  {
   "cell_type": "code",
   "execution_count": 53,
   "metadata": {},
   "outputs": [
    {
     "data": {
      "text/html": [
       "<div>\n",
       "<style>\n",
       "    .dataframe thead tr:only-child th {\n",
       "        text-align: right;\n",
       "    }\n",
       "\n",
       "    .dataframe thead th {\n",
       "        text-align: left;\n",
       "    }\n",
       "\n",
       "    .dataframe tbody tr th {\n",
       "        vertical-align: top;\n",
       "    }\n",
       "</style>\n",
       "<table border=\"1\" class=\"dataframe\">\n",
       "  <thead>\n",
       "    <tr style=\"text-align: right;\">\n",
       "      <th></th>\n",
       "      <th>Colour</th>\n",
       "      <th>Flicker</th>\n",
       "    </tr>\n",
       "  </thead>\n",
       "  <tbody>\n",
       "    <tr>\n",
       "      <th>0</th>\n",
       "      <td>1</td>\n",
       "      <td>26.8</td>\n",
       "    </tr>\n",
       "    <tr>\n",
       "      <th>1</th>\n",
       "      <td>1</td>\n",
       "      <td>27.9</td>\n",
       "    </tr>\n",
       "    <tr>\n",
       "      <th>2</th>\n",
       "      <td>1</td>\n",
       "      <td>23.7</td>\n",
       "    </tr>\n",
       "    <tr>\n",
       "      <th>3</th>\n",
       "      <td>1</td>\n",
       "      <td>25.0</td>\n",
       "    </tr>\n",
       "    <tr>\n",
       "      <th>4</th>\n",
       "      <td>1</td>\n",
       "      <td>26.3</td>\n",
       "    </tr>\n",
       "    <tr>\n",
       "      <th>5</th>\n",
       "      <td>1</td>\n",
       "      <td>24.8</td>\n",
       "    </tr>\n",
       "    <tr>\n",
       "      <th>6</th>\n",
       "      <td>1</td>\n",
       "      <td>25.7</td>\n",
       "    </tr>\n",
       "    <tr>\n",
       "      <th>7</th>\n",
       "      <td>1</td>\n",
       "      <td>24.5</td>\n",
       "    </tr>\n",
       "  </tbody>\n",
       "</table>\n",
       "</div>"
      ],
      "text/plain": [
       "   Colour  Flicker\n",
       "0       1     26.8\n",
       "1       1     27.9\n",
       "2       1     23.7\n",
       "3       1     25.0\n",
       "4       1     26.3\n",
       "5       1     24.8\n",
       "6       1     25.7\n",
       "7       1     24.5"
      ]
     },
     "execution_count": 53,
     "metadata": {},
     "output_type": "execute_result"
    }
   ],
   "source": [
    "flicker.loc[flicker['Colour'] == 1]"
   ]
  },
  {
   "cell_type": "code",
   "execution_count": 56,
   "metadata": {},
   "outputs": [
    {
     "data": {
      "text/plain": [
       "KruskalResult(statistic=7.1944029850746354, pvalue=0.027400295183181784)"
      ]
     },
     "execution_count": 56,
     "metadata": {},
     "output_type": "execute_result"
    }
   ],
   "source": [
    "stats.kruskal(flicker.loc[flicker['Colour'] == 1].Flicker,flicker.loc[flicker['Colour'] == 2].Flicker,flicker.loc[flicker['Colour'] == 3].Flicker)"
   ]
  },
  {
   "cell_type": "markdown",
   "metadata": {},
   "source": [
    "H0: medBlack = medGreen = medBrown <br>\n",
    "H1: Not all medians are equal. <br>\n",
    "Test Statistic=7.1944 <br>\n",
    "p-value = 0.027 < α(0.05) therefore we reject H0. We conclude that there is a significant difference in the median critical frequencies amongst the three different iris colours. \n"
   ]
  },
  {
   "cell_type": "markdown",
   "metadata": {},
   "source": [
    "# Independent 2-Sample T-Test"
   ]
  },
  {
   "cell_type": "markdown",
   "metadata": {},
   "source": [
    "Crossbills data\n",
    "\n",
    "On page 48 of the text Understanding data is a set of data on the lengths (in mm) of the left and right legs of a sample of common crossbills, some of them left-billed, some of them right-billed. The data were recorded to determine whether the method of feeding, i.e. the bill orientation, places more strain on one leg than the other.\n",
    "\n",
    "Open the worksheet crossbill.csv to get the measurements. How do we know that the data are paired? \n"
   ]
  },
  {
   "cell_type": "code",
   "execution_count": 3,
   "metadata": {},
   "outputs": [
    {
     "data": {
      "text/html": [
       "<div>\n",
       "<style>\n",
       "    .dataframe thead tr:only-child th {\n",
       "        text-align: right;\n",
       "    }\n",
       "\n",
       "    .dataframe thead th {\n",
       "        text-align: left;\n",
       "    }\n",
       "\n",
       "    .dataframe tbody tr th {\n",
       "        vertical-align: top;\n",
       "    }\n",
       "</style>\n",
       "<table border=\"1\" class=\"dataframe\">\n",
       "  <thead>\n",
       "    <tr style=\"text-align: right;\">\n",
       "      <th></th>\n",
       "      <th>bird</th>\n",
       "      <th>lleg</th>\n",
       "      <th>rleg</th>\n",
       "      <th>bill</th>\n",
       "    </tr>\n",
       "  </thead>\n",
       "  <tbody>\n",
       "    <tr>\n",
       "      <th>0</th>\n",
       "      <td>1</td>\n",
       "      <td>19.0</td>\n",
       "      <td>17.4</td>\n",
       "      <td>left</td>\n",
       "    </tr>\n",
       "    <tr>\n",
       "      <th>1</th>\n",
       "      <td>2</td>\n",
       "      <td>17.1</td>\n",
       "      <td>17.3</td>\n",
       "      <td>left</td>\n",
       "    </tr>\n",
       "    <tr>\n",
       "      <th>2</th>\n",
       "      <td>3</td>\n",
       "      <td>16.6</td>\n",
       "      <td>16.6</td>\n",
       "      <td>left</td>\n",
       "    </tr>\n",
       "    <tr>\n",
       "      <th>3</th>\n",
       "      <td>4</td>\n",
       "      <td>17.0</td>\n",
       "      <td>16.7</td>\n",
       "      <td>left</td>\n",
       "    </tr>\n",
       "    <tr>\n",
       "      <th>4</th>\n",
       "      <td>5</td>\n",
       "      <td>18.3</td>\n",
       "      <td>18.2</td>\n",
       "      <td>left</td>\n",
       "    </tr>\n",
       "    <tr>\n",
       "      <th>5</th>\n",
       "      <td>6</td>\n",
       "      <td>17.5</td>\n",
       "      <td>17.3</td>\n",
       "      <td>left</td>\n",
       "    </tr>\n",
       "    <tr>\n",
       "      <th>6</th>\n",
       "      <td>7</td>\n",
       "      <td>16.4</td>\n",
       "      <td>16.3</td>\n",
       "      <td>left</td>\n",
       "    </tr>\n",
       "    <tr>\n",
       "      <th>7</th>\n",
       "      <td>8</td>\n",
       "      <td>17.1</td>\n",
       "      <td>16.9</td>\n",
       "      <td>left</td>\n",
       "    </tr>\n",
       "    <tr>\n",
       "      <th>8</th>\n",
       "      <td>9</td>\n",
       "      <td>17.5</td>\n",
       "      <td>16.7</td>\n",
       "      <td>left</td>\n",
       "    </tr>\n",
       "    <tr>\n",
       "      <th>9</th>\n",
       "      <td>10</td>\n",
       "      <td>17.0</td>\n",
       "      <td>16.8</td>\n",
       "      <td>left</td>\n",
       "    </tr>\n",
       "    <tr>\n",
       "      <th>10</th>\n",
       "      <td>11</td>\n",
       "      <td>18.6</td>\n",
       "      <td>17.5</td>\n",
       "      <td>left</td>\n",
       "    </tr>\n",
       "    <tr>\n",
       "      <th>11</th>\n",
       "      <td>12</td>\n",
       "      <td>16.3</td>\n",
       "      <td>16.2</td>\n",
       "      <td>left</td>\n",
       "    </tr>\n",
       "    <tr>\n",
       "      <th>12</th>\n",
       "      <td>13</td>\n",
       "      <td>17.8</td>\n",
       "      <td>18.0</td>\n",
       "      <td>right</td>\n",
       "    </tr>\n",
       "    <tr>\n",
       "      <th>13</th>\n",
       "      <td>14</td>\n",
       "      <td>15.6</td>\n",
       "      <td>17.1</td>\n",
       "      <td>right</td>\n",
       "    </tr>\n",
       "    <tr>\n",
       "      <th>14</th>\n",
       "      <td>15</td>\n",
       "      <td>16.9</td>\n",
       "      <td>17.2</td>\n",
       "      <td>right</td>\n",
       "    </tr>\n",
       "    <tr>\n",
       "      <th>15</th>\n",
       "      <td>16</td>\n",
       "      <td>16.9</td>\n",
       "      <td>17.1</td>\n",
       "      <td>right</td>\n",
       "    </tr>\n",
       "    <tr>\n",
       "      <th>16</th>\n",
       "      <td>17</td>\n",
       "      <td>17.0</td>\n",
       "      <td>17.3</td>\n",
       "      <td>right</td>\n",
       "    </tr>\n",
       "    <tr>\n",
       "      <th>17</th>\n",
       "      <td>18</td>\n",
       "      <td>16.9</td>\n",
       "      <td>17.1</td>\n",
       "      <td>right</td>\n",
       "    </tr>\n",
       "    <tr>\n",
       "      <th>18</th>\n",
       "      <td>19</td>\n",
       "      <td>17.4</td>\n",
       "      <td>17.6</td>\n",
       "      <td>right</td>\n",
       "    </tr>\n",
       "    <tr>\n",
       "      <th>19</th>\n",
       "      <td>20</td>\n",
       "      <td>17.4</td>\n",
       "      <td>17.7</td>\n",
       "      <td>right</td>\n",
       "    </tr>\n",
       "    <tr>\n",
       "      <th>20</th>\n",
       "      <td>21</td>\n",
       "      <td>17.7</td>\n",
       "      <td>17.7</td>\n",
       "      <td>right</td>\n",
       "    </tr>\n",
       "    <tr>\n",
       "      <th>21</th>\n",
       "      <td>22</td>\n",
       "      <td>16.5</td>\n",
       "      <td>17.5</td>\n",
       "      <td>right</td>\n",
       "    </tr>\n",
       "    <tr>\n",
       "      <th>22</th>\n",
       "      <td>23</td>\n",
       "      <td>17.1</td>\n",
       "      <td>17.3</td>\n",
       "      <td>right</td>\n",
       "    </tr>\n",
       "    <tr>\n",
       "      <th>23</th>\n",
       "      <td>24</td>\n",
       "      <td>16.7</td>\n",
       "      <td>16.9</td>\n",
       "      <td>right</td>\n",
       "    </tr>\n",
       "  </tbody>\n",
       "</table>\n",
       "</div>"
      ],
      "text/plain": [
       "    bird  lleg  rleg   bill\n",
       "0      1  19.0  17.4   left\n",
       "1      2  17.1  17.3   left\n",
       "2      3  16.6  16.6   left\n",
       "3      4  17.0  16.7   left\n",
       "4      5  18.3  18.2   left\n",
       "5      6  17.5  17.3   left\n",
       "6      7  16.4  16.3   left\n",
       "7      8  17.1  16.9   left\n",
       "8      9  17.5  16.7   left\n",
       "9     10  17.0  16.8   left\n",
       "10    11  18.6  17.5   left\n",
       "11    12  16.3  16.2   left\n",
       "12    13  17.8  18.0  right\n",
       "13    14  15.6  17.1  right\n",
       "14    15  16.9  17.2  right\n",
       "15    16  16.9  17.1  right\n",
       "16    17  17.0  17.3  right\n",
       "17    18  16.9  17.1  right\n",
       "18    19  17.4  17.6  right\n",
       "19    20  17.4  17.7  right\n",
       "20    21  17.7  17.7  right\n",
       "21    22  16.5  17.5  right\n",
       "22    23  17.1  17.3  right\n",
       "23    24  16.7  16.9  right"
      ]
     },
     "execution_count": 3,
     "metadata": {},
     "output_type": "execute_result"
    }
   ],
   "source": [
    "crossbill = pd.read_csv('C:/Users/mahrita/Google Drive/32931 TRM/32931 Spring 2018/Week 3/crossbill.csv')\n",
    "crossbill"
   ]
  },
  {
   "cell_type": "markdown",
   "metadata": {},
   "source": [
    "Each left leg length had a paired right leg length because each pair of legs belonged to a particular bird.<br>\n",
    "Compute the differences between the left and right leg lengths using the numeric expression LLeg – Rleg. Obtain a boxplot of Diff to compare the left-billed crossbills and the right-billed crossbills  Write a brief summary of the information shown by this graph."
   ]
  },
  {
   "cell_type": "code",
   "execution_count": 36,
   "metadata": {},
   "outputs": [
    {
     "data": {
      "image/png": "[encoded data removed]",
      "text/plain": [
       "<matplotlib.figure.Figure at 0x1ee11676a90>"
      ]
     },
     "metadata": {},
     "output_type": "display_data"
    }
   ],
   "source": [
    "df=crossbill.copy()\n",
    "df2 = df.assign(diff=crossbill['lleg']-crossbill['rleg'])\n",
    "a=df2.loc[:, ['bill', 'diff']] \n",
    "#import matplotlib.pyplot as plt\n",
    "\n",
    "# Multiple Boxplots\n",
    "a.boxplot(by='bill', meanline=True, showmeans=True, showcaps=True,showbox=True, showfliers=False)\n",
    "plt.show()"
   ]
  },
  {
   "cell_type": "markdown",
   "metadata": {},
   "source": [
    "It appears that the difference is positive for left-billed crossbills, meaning their left leg is longer than their right leg. The difference looks slightly negative for right-billed crossbills, meaning their right leg is longer than their left leg. It also appears that, with the exception of three outliers, that the differences are less variable for right-billed crossbills than for the left-billed crossbills."
   ]
  },
  {
   "cell_type": "markdown",
   "metadata": {},
   "source": [
    "The first question to ask is whether the right and left legs of crossbills have significantly different lengths. Explain why this question must be answered for the two groups of crossbills separately. Then use a one-sample t test to test whether the mean is zero. Repeat this process for the right-billed birds. Why do we use H0 µ = 0 as the null hypothesis value? Should the alternative be one-sided or two-sided? What are your conclusions from the tests?"
   ]
  },
  {
   "cell_type": "code",
   "execution_count": 61,
   "metadata": {},
   "outputs": [
    {
     "name": "stdout",
     "output_type": "stream",
     "text": [
      "t_statistic, p_value 2.48643279485 0.0302263636738\n"
     ]
    }
   ],
   "source": [
    "df3=df2.loc[df2['bill'] == 'left']\n",
    "\n",
    "from scipy import stats\n",
    "t_statistic, p_value =stats.ttest_1samp(df3['diff'], 0)\n",
    "print(\"t_statistic, p_value\",t_statistic, p_value)"
   ]
  },
  {
   "cell_type": "code",
   "execution_count": 63,
   "metadata": {},
   "outputs": [
    {
     "name": "stdout",
     "output_type": "stream",
     "text": [
      "t_statistic, p_value -3.1168131492 0.00980556863834\n"
     ]
    }
   ],
   "source": [
    "df4=df2.loc[df2['bill'] == 'right']\n",
    "\n",
    "from scipy import stats\n",
    "t_statistic, p_value =stats.ttest_1samp(df4['diff'], 0)\n",
    "print(\"t_statistic, p_value\",t_statistic, p_value)"
   ]
  },
  {
   "cell_type": "markdown",
   "metadata": {},
   "source": [
    "We need to consider the two groups separately, since we suspect that they might have different signs for the difference. If we combine the groups, then we lose useful information. We need to use μ = 0 as the null hypothesis since μ = 0 represents the left and right legs being of equal length (left –right = 0). We choose a 2-sided alternative since we do not really have enough information about which leg we expect to be longer for which billed crossbill. The legs of the crossbills have significantly different lengths, both for the left-billed crossbills (p-value = 0.03<α) and the right-billed crossbills (p-value = 0.0098<α)."
   ]
  },
  {
   "cell_type": "markdown",
   "metadata": {},
   "source": [
    "Do the values of Diff show differences between the two groups of crossbills? Write down null and alternative hypotheses for the question. Is the alternative hypothesis one-sided or two-sided? Write down the p-value, decision and conclusion."
   ]
  },
  {
   "cell_type": "markdown",
   "metadata": {},
   "source": [
    "First we need to look at Levene’s test to see whether we should assume variances are equal or not."
   ]
  },
  {
   "cell_type": "code",
   "execution_count": 64,
   "metadata": {},
   "outputs": [
    {
     "data": {
      "text/plain": [
       "(0.71297075703744484, 0.40754801323091527)"
      ]
     },
     "execution_count": 64,
     "metadata": {},
     "output_type": "execute_result"
    }
   ],
   "source": [
    "# equality of variances (Levene’s test)\n",
    "W2, pval2 = stats.levene(df3['diff'],df4['diff'], center='mean')\n",
    "W2, pval2"
   ]
  },
  {
   "cell_type": "markdown",
   "metadata": {},
   "source": [
    "H0: σleft-billed  =  σright-billed <br>\n",
    "H1: σleft-billed  ≠  σright-billed<br>\n",
    "F-test=0.713<br>\n",
    "p-value = 0.408 > α(0.05), we can assume that the variances for the two groups are not significantly different. So we can conduct a 2 sample t-test.\n"
   ]
  },
  {
   "cell_type": "code",
   "execution_count": 72,
   "metadata": {},
   "outputs": [
    {
     "name": "stdout",
     "output_type": "stream",
     "text": [
      "t_statistic, p_value 3.89671195506 0.0007756308594\n"
     ]
    }
   ],
   "source": [
    "from scipy import stats\n",
    "t_statistic, p_value =stats.ttest_ind(df3['diff'],df4['diff'], 0)\n",
    "print(\"t_statistic, p_value\",t_statistic, p_value)"
   ]
  },
  {
   "cell_type": "markdown",
   "metadata": {},
   "source": [
    "H0: μleft-billed  =  μright-billed <br>\n",
    "H1: μleft-billed  ≠  μright-billed <br>\n",
    "t-test=3.897<br>\n",
    "p-value = 0.001< α(0.05) therefore we reject H0. We can conclude that there is a significant difference between the mean values of diff between the two groups of Crossbills.\n"
   ]
  },
  {
   "cell_type": "markdown",
   "metadata": {},
   "source": [
    "# Nonparametric Equivalent: Mann-Whitney U Test"
   ]
  },
  {
   "cell_type": "markdown",
   "metadata": {},
   "source": [
    "Test whether the two groups are normally distributed, include the null and alternative hypothesis, p-value, decision and conclusion in your answer. Was the two sample independent t-test appropriate in this case? If not, use the appropriate equivalent nonparametric test:"
   ]
  },
  {
   "cell_type": "code",
   "execution_count": 74,
   "metadata": {},
   "outputs": [
    {
     "name": "stderr",
     "output_type": "stream",
     "text": [
      "C:\\Users\\mahrita\\Anaconda3\\lib\\site-packages\\statsmodels\\compat\\pandas.py:56: FutureWarning: The pandas.core.datetools module is deprecated and will be removed in a future version. Please use the pandas.tseries module instead.\n",
      "  from pandas.core import datetools\n"
     ]
    },
    {
     "name": "stdout",
     "output_type": "stream",
     "text": [
      "lilliefors:  D , P_Value (0.30707377088208559, 0.0026390482843014658)\n",
      "lilliefors:  D , P_Value (0.41087055076987766, 3.8568931758380838e-06)\n"
     ]
    }
   ],
   "source": [
    "import statsmodels.api as sm\n",
    "print('lilliefors:  D , P_Value',sm.stats.diagnostic.lilliefors(df3['diff'], pvalmethod='approx'))\n",
    "print('lilliefors:  D , P_Value',sm.stats.diagnostic.lilliefors(df4['diff'], pvalmethod='approx'))"
   ]
  },
  {
   "cell_type": "markdown",
   "metadata": {},
   "source": [
    "H0: The data is normally distributed <br>\n",
    "H1: The data is not normally distributed <br>\n",
    "p-value = 0.0026< α(0.05) we  reject H0. We conclude that the mean difference of left billed Crossbills is not normally distributed.\n",
    "\n",
    "H0: The data is normally distributed <br>\n",
    "H1: The data is not normally distributed <br>\n",
    "p-value = 0.000003< α(0.05) we  reject H0. We conclude that the mean difference of right-billed Crossbills is not normally distributed.\n",
    "<br>\n",
    "\n",
    "The equivalent nonparametric test to the independent t-test is the Mann Whitney test. Use the wilcox.test function in R.\n"
   ]
  },
  {
   "cell_type": "code",
   "execution_count": 77,
   "metadata": {},
   "outputs": [
    {
     "data": {
      "text/plain": [
       "MannwhitneyuResult(statistic=3.0, pvalue=3.5482251140296239e-05)"
      ]
     },
     "execution_count": 77,
     "metadata": {},
     "output_type": "execute_result"
    }
   ],
   "source": [
    "stats.mannwhitneyu(df3['diff'],df4['diff'])"
   ]
  },
  {
   "cell_type": "markdown",
   "metadata": {},
   "source": [
    "\n",
    "H0: medianleft-billed  =  medianright-billed <br>\n",
    "H1: medianleft-billed  ≠  medianright-billed <br>\n",
    "p-value = 0.00003< α(0.05) therefore we reject H0. We can conclude that there is a significant difference between the median values of diff between the two groups of Crossbills.\n",
    " \n"
   ]
  }
 ],
 "metadata": {
  "kernelspec": {
   "display_name": "Python 3",
   "language": "python",
   "name": "python3"
  },
  "language_info": {
   "codemirror_mode": {
    "name": "ipython",
    "version": 3
   },
   "file_extension": ".py",
   "mimetype": "text/x-python",
   "name": "python",
   "nbconvert_exporter": "python",
   "pygments_lexer": "ipython3",
   "version": "3.6.1"
  }
 },
 "nbformat": 4,
 "nbformat_minor": 2
}
